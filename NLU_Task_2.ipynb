{
  "cells": [
    {
      "cell_type": "markdown",
      "metadata": {
        "id": "view-in-github",
        "colab_type": "text"
      },
      "source": [
        "<a href=\"https://colab.research.google.com/github/WillN202/NLU_CW/blob/main/NLU_Task_2.ipynb\" target=\"_parent\"><img src=\"https://colab.research.google.com/assets/colab-badge.svg\" alt=\"Open In Colab\"/></a>"
      ]
    },
    {
      "cell_type": "markdown",
      "metadata": {
        "id": "AlQkoYuH5oNt"
      },
      "source": [
        "## NLU Task 2"
      ]
    },
    {
      "cell_type": "code",
      "execution_count": 27,
      "metadata": {
        "colab": {
          "base_uri": "https://localhost:8080/"
        },
        "id": "rKJXDcr5WiuA",
        "outputId": "88031b56-1706-47a5-8d72-1832e81d50bf"
      },
      "outputs": [
        {
          "output_type": "stream",
          "name": "stdout",
          "text": [
            "Requirement already satisfied: torchmetrics in /usr/local/lib/python3.10/dist-packages (1.3.2)\n",
            "Requirement already satisfied: numpy>1.20.0 in /usr/local/lib/python3.10/dist-packages (from torchmetrics) (1.25.2)\n",
            "Requirement already satisfied: packaging>17.1 in /usr/local/lib/python3.10/dist-packages (from torchmetrics) (24.0)\n",
            "Requirement already satisfied: torch>=1.10.0 in /usr/local/lib/python3.10/dist-packages (from torchmetrics) (2.2.1+cu121)\n",
            "Requirement already satisfied: lightning-utilities>=0.8.0 in /usr/local/lib/python3.10/dist-packages (from torchmetrics) (0.11.2)\n",
            "Requirement already satisfied: setuptools in /usr/local/lib/python3.10/dist-packages (from lightning-utilities>=0.8.0->torchmetrics) (67.7.2)\n",
            "Requirement already satisfied: typing-extensions in /usr/local/lib/python3.10/dist-packages (from lightning-utilities>=0.8.0->torchmetrics) (4.11.0)\n",
            "Requirement already satisfied: filelock in /usr/local/lib/python3.10/dist-packages (from torch>=1.10.0->torchmetrics) (3.13.4)\n",
            "Requirement already satisfied: sympy in /usr/local/lib/python3.10/dist-packages (from torch>=1.10.0->torchmetrics) (1.12)\n",
            "Requirement already satisfied: networkx in /usr/local/lib/python3.10/dist-packages (from torch>=1.10.0->torchmetrics) (3.3)\n",
            "Requirement already satisfied: jinja2 in /usr/local/lib/python3.10/dist-packages (from torch>=1.10.0->torchmetrics) (3.1.3)\n",
            "Requirement already satisfied: fsspec in /usr/local/lib/python3.10/dist-packages (from torch>=1.10.0->torchmetrics) (2023.6.0)\n",
            "Requirement already satisfied: nvidia-cuda-nvrtc-cu12==12.1.105 in /usr/local/lib/python3.10/dist-packages (from torch>=1.10.0->torchmetrics) (12.1.105)\n",
            "Requirement already satisfied: nvidia-cuda-runtime-cu12==12.1.105 in /usr/local/lib/python3.10/dist-packages (from torch>=1.10.0->torchmetrics) (12.1.105)\n",
            "Requirement already satisfied: nvidia-cuda-cupti-cu12==12.1.105 in /usr/local/lib/python3.10/dist-packages (from torch>=1.10.0->torchmetrics) (12.1.105)\n",
            "Requirement already satisfied: nvidia-cudnn-cu12==8.9.2.26 in /usr/local/lib/python3.10/dist-packages (from torch>=1.10.0->torchmetrics) (8.9.2.26)\n",
            "Requirement already satisfied: nvidia-cublas-cu12==12.1.3.1 in /usr/local/lib/python3.10/dist-packages (from torch>=1.10.0->torchmetrics) (12.1.3.1)\n",
            "Requirement already satisfied: nvidia-cufft-cu12==11.0.2.54 in /usr/local/lib/python3.10/dist-packages (from torch>=1.10.0->torchmetrics) (11.0.2.54)\n",
            "Requirement already satisfied: nvidia-curand-cu12==10.3.2.106 in /usr/local/lib/python3.10/dist-packages (from torch>=1.10.0->torchmetrics) (10.3.2.106)\n",
            "Requirement already satisfied: nvidia-cusolver-cu12==11.4.5.107 in /usr/local/lib/python3.10/dist-packages (from torch>=1.10.0->torchmetrics) (11.4.5.107)\n",
            "Requirement already satisfied: nvidia-cusparse-cu12==12.1.0.106 in /usr/local/lib/python3.10/dist-packages (from torch>=1.10.0->torchmetrics) (12.1.0.106)\n",
            "Requirement already satisfied: nvidia-nccl-cu12==2.19.3 in /usr/local/lib/python3.10/dist-packages (from torch>=1.10.0->torchmetrics) (2.19.3)\n",
            "Requirement already satisfied: nvidia-nvtx-cu12==12.1.105 in /usr/local/lib/python3.10/dist-packages (from torch>=1.10.0->torchmetrics) (12.1.105)\n",
            "Requirement already satisfied: triton==2.2.0 in /usr/local/lib/python3.10/dist-packages (from torch>=1.10.0->torchmetrics) (2.2.0)\n",
            "Requirement already satisfied: nvidia-nvjitlink-cu12 in /usr/local/lib/python3.10/dist-packages (from nvidia-cusolver-cu12==11.4.5.107->torch>=1.10.0->torchmetrics) (12.4.127)\n",
            "Requirement already satisfied: MarkupSafe>=2.0 in /usr/local/lib/python3.10/dist-packages (from jinja2->torch>=1.10.0->torchmetrics) (2.1.5)\n",
            "Requirement already satisfied: mpmath>=0.19 in /usr/local/lib/python3.10/dist-packages (from sympy->torch>=1.10.0->torchmetrics) (1.3.0)\n",
            "Drive already mounted at /content/drive; to attempt to forcibly remount, call drive.mount(\"/content/drive\", force_remount=True).\n"
          ]
        }
      ],
      "source": [
        "!pip install torchmetrics\n",
        "from google.colab import drive\n",
        "drive.mount('/content/drive')"
      ]
    },
    {
      "cell_type": "code",
      "execution_count": 28,
      "metadata": {
        "colab": {
          "base_uri": "https://localhost:8080/"
        },
        "id": "qJ4fIPML5kK3",
        "outputId": "0265e1d8-fdd2-41cf-ca38-ba1e050f6d9b"
      },
      "outputs": [
        {
          "output_type": "stream",
          "name": "stdout",
          "text": [
            "cuda\n"
          ]
        }
      ],
      "source": [
        "import torch\n",
        "from torch.utils.data import Dataset, DataLoader\n",
        "import torchmetrics\n",
        "import os.path\n",
        "import pandas as pd\n",
        "import numpy as np\n",
        "from gensim.models import Word2Vec\n",
        "import string\n",
        "import re\n",
        "TRAINING_DATASET_LOCATION = \"/content/drive/MyDrive/train.csv\"\n",
        "DEV_DATASET_LOCATION = \"/content/drive/MyDrive/dev.csv\"\n",
        "TEST_DATASET_LOCATION = \"/content/drive/MyDrive/AV_trial.csv\"\n",
        "WORD2VEC_EMBEDDINGS = \"/content/drive/MyDrive/word2vec_embeddings.model\"\n",
        "EPOCHS = 4\n",
        "\n",
        "DEVICE = (\n",
        "    \"cuda\"\n",
        "    if torch.cuda.is_available()\n",
        "    else \"mps\"\n",
        "    if torch.backends.mps.is_available()\n",
        "    else \"cpu\"\n",
        ")\n",
        "print(DEVICE)\n",
        "torch.set_default_device(DEVICE)"
      ]
    },
    {
      "cell_type": "code",
      "execution_count": 29,
      "metadata": {
        "id": "tn7zuJQIAf7s"
      },
      "outputs": [],
      "source": [
        "def generic_preprocessor(sentence):\n",
        "  sentence = sentence.lower()\n",
        "\n",
        "  return sentence\n",
        "\n",
        "class AVDataset(Dataset):\n",
        "  def __init__(self, csv_file, pre_processor=None):\n",
        "    self.samples = pd.read_csv(csv_file)\n",
        "    self.pre_processor = pre_processor\n",
        "\n",
        "  def __len__(self):\n",
        "      return len(self.samples)\n",
        "\n",
        "  def __getitem__(self, index):\n",
        "    sample = self.samples.iloc[index]\n",
        "    # sample[0] = re.sub(f\"[{re.escape(string.punctuation)}]\", \"\", sample[0])\n",
        "    # sample[0] = re.sub(f\"[{re.escape(string.punctuation)}]\", \"\", sample[1])\n",
        "    sample_text = f\"{sample[0]} <sep> {sample[1]}\"\n",
        "    return (self.pre_processor(sample_text), sample[2])\n",
        "\n",
        "\n"
      ]
    },
    {
      "cell_type": "code",
      "execution_count": 33,
      "metadata": {
        "id": "AaGl4cL1Af0W"
      },
      "outputs": [],
      "source": [
        "training_samples = AVDataset(TRAINING_DATASET_LOCATION, pre_processor=generic_preprocessor)\n",
        "dev_samples = AVDataset(DEV_DATASET_LOCATION, pre_processor=generic_preprocessor)\n",
        "test_samples = AVDataset(TEST_DATASET_LOCATION, pre_processor=generic_preprocessor)\n",
        "training_loader = DataLoader(training_samples, batch_size=64, shuffle=True, generator=torch.Generator(device=DEVICE))\n",
        "dev_loader = DataLoader(dev_samples, batch_size=64, shuffle=True, generator=torch.Generator(device=DEVICE))\n",
        "test_loader =  DataLoader(test_samples, batch_size=64, shuffle=True, generator=torch.Generator(device=DEVICE))"
      ]
    },
    {
      "cell_type": "code",
      "execution_count": 32,
      "metadata": {
        "id": "o0UEKNyf-9h0"
      },
      "outputs": [],
      "source": [
        "# TODO - Fix reading from saved embeddings\n",
        "phrases = pd.read_csv(TRAINING_DATASET_LOCATION)\n",
        "phrases = phrases.loc[:, \"text_1\":\"text_2\"].to_numpy().flatten().tolist()\n",
        "#phrases = [re.sub(f\"[{re.escape(string.punctuation)}]\", \"\", str(phrase)).split() for phrase in phrases]\n",
        "phrases = [str(phrase).split() for phrase in phrases]\n",
        "\n",
        "embeddings = Word2Vec(sentences=phrases, workers=100, min_count=1, vector_size=256)\n",
        "embeddings.wv[\"<UNK>\"] = np.random.rand(256)\n",
        "embeddings.wv[\"<sep>\"] = np.random.rand(256)\n",
        "embeddings.wv[\"<pad>\"] = np.random.rand(256)\n",
        "# embeddings.save(\"/content/drive/MyDrive/word2vec_embeddings.model\")\n",
        "# WORD2VEC_EMBEDDINGS = \"/content/drive/MyDrive/word2vec_embeddings.model\"\n",
        "\n",
        "#embeddings = Word2Vec.load(WORD2VEC_EMBEDDINGS)\n"
      ]
    },
    {
      "cell_type": "code",
      "execution_count": 34,
      "metadata": {
        "id": "PrrTcF4NMoRB"
      },
      "outputs": [],
      "source": [
        "class BaseGruRNN(torch.nn.Module):\n",
        "  def __init__(self, embedding_size, output_size, hidden_size, embeddings, vocab, rnn_layers=1, is_bidirectional=False):\n",
        "    super(BaseGruRNN, self).__init__()\n",
        "    self.vocab = vocab\n",
        "    self.get_embedding = torch.nn.Embedding.from_pretrained(embeddings)\n",
        "    self.GRU_Layer = torch.nn.GRU(embedding_size, hidden_size, batch_first=True, num_layers=rnn_layers, dropout=0.1, bidirectional=is_bidirectional)\n",
        "\n",
        "  def forward(self, x, linear_layer):\n",
        "    unk_embedding = self.vocab[\"<UNK>\"]\n",
        "    x = [re.sub(f\"[{re.escape(string.punctuation)}]\", \"\", sentence) for sentence in x]\n",
        "    x = [sentence.split() for sentence in x]\n",
        "    x = [[self.vocab.get(word, unk_embedding) for word in sentence ] for sentence in x]\n",
        "    # TODO -> instead of padding, use pack sequence instead. Note this may break the output from the lstm (woo)\n",
        "    max_len = max([len(words) for words in x])\n",
        "    x = [([self.vocab[\"<pad>\"]] * (max_len -  len(words))) + words for words in x]\n",
        "    x = torch.tensor(x)\n",
        "\n",
        "    embeddings = self.get_embedding(x)\n",
        "    GRU_values = self.GRU_Layer(embeddings)[1]\n",
        "    GRU_values = GRU_values[0] #Get last hidden state(s)\n",
        "    result = linear_layer(GRU_values)\n",
        "    return result\n",
        "\n",
        "class OneLinearLayerGruRNN(BaseGruRNN):\n",
        "    def __init__(self, embedding_size, output_size, hidden_size, embeddings, vocab, rnn_layers=1, is_bidirectional=False):\n",
        "      self.base = super(OneLinearLayerGruRNN, self).__init__(embedding_size, output_size, hidden_size, embeddings, vocab, rnn_layers, is_bidirectional)\n",
        "      self.linear_layer = torch.nn.Sequential(\n",
        "          torch.nn.Linear(hidden_size, output_size),\n",
        "      )\n",
        "\n",
        "    def forward(self, x):\n",
        "      return self.base.forward(x, self.linear_layer)\n",
        "\n",
        "class TwoLinearLayerGruRNN(BaseGruRNN):\n",
        "    def __init__(self, embedding_size, output_size, hidden_size, embeddings, vocab, rnn_layers=1, is_bidirectional=False):\n",
        "      super().__init__(embedding_size, output_size, hidden_size, embeddings, vocab, rnn_layers, is_bidirectional)\n",
        "      self.linear_layer = torch.nn.Sequential(\n",
        "          torch.nn.Linear(hidden_size, hidden_size),\n",
        "          torch.nn.LeakyReLU(),\n",
        "          torch.nn.Dropout(p=0.1),\n",
        "          torch.nn.Linear(hidden_size, output_size)\n",
        "      )\n",
        "\n",
        "    def forward(self, x):\n",
        "      return super().forward(x, self.linear_layer)\n",
        "\n",
        "class ThreeLinearLayerGruRNN(BaseGruRNN):\n",
        "    def __init__(self, embedding_size, output_size, hidden_size, embeddings, vocab, rnn_layers=1, is_bidirectional=False):\n",
        "      super(ThreeLinearLayerGruRNN, self).__init__(embedding_size, output_size, hidden_size, embeddings, vocab, rnn_layers, is_bidirectional)\n",
        "      self.linear_layer = torch.nn.Sequential(\n",
        "          torch.nn.Linear(hidden_size, hidden_size),\n",
        "          torch.nn.LeakyReLU(),\n",
        "          torch.nn.Dropout(p=0.1),\n",
        "          torch.nn.Linear(hidden_size, hidden_size),\n",
        "          torch.nn.LeakyReLU(),\n",
        "          torch.nn.Dropout(p=0.1),\n",
        "          torch.nn.Linear(hidden_size, output_size)\n",
        "      )\n",
        "\n",
        "class FourLinearLayerGruRNN(BaseGruRNN):\n",
        "    def __init__(self, embedding_size, output_size, hidden_size, embeddings, vocab, rnn_layers=1, is_bidirectional=False):\n",
        "      super(FourLinearLayerGruRNN, self).__init__(embedding_size, output_size, hidden_size, embeddings, vocab, rnn_layers, is_bidirectional)\n",
        "      self.linear_layer = torch.nn.Sequential(\n",
        "          torch.nn.Linear(hidden_size, hidden_size),\n",
        "          torch.nn.LeakyReLU(),\n",
        "          torch.nn.Dropout(p=0.1),\n",
        "          torch.nn.Linear(hidden_size, hidden_size),\n",
        "          torch.nn.LeakyReLU(),\n",
        "          torch.nn.Dropout(p=0.1),\n",
        "          torch.nn.Linear(hidden_size, hidden_size),\n",
        "          torch.nn.LeakyReLU(),\n",
        "          torch.nn.Dropout(p=0.1),\n",
        "          torch.nn.Linear(hidden_size, output_size)\n",
        "      )\n",
        "\n",
        "coded_embeddings = torch.FloatTensor(embeddings.wv.vectors).to(DEVICE)\n",
        "vocab = embeddings.wv.key_to_index"
      ]
    },
    {
      "cell_type": "markdown",
      "metadata": {
        "id": "mD5m9thfWdI3"
      },
      "source": [
        "## Model Training"
      ]
    },
    {
      "cell_type": "code",
      "execution_count": 37,
      "metadata": {
        "colab": {
          "base_uri": "https://localhost:8080/"
        },
        "id": "AsUf75tOWdI3",
        "outputId": "b8bce70d-89f3-4102-8dd5-6df92a973ccf"
      },
      "outputs": [
        {
          "output_type": "stream",
          "name": "stdout",
          "text": [
            "Epochs: 4\n",
            "---------------------EPOCH 1 / 4---------------------\n",
            "Batch Loss 0.6928998231887817\n",
            "Accuracy 0.509\n",
            "---------------------EPOCH 2 / 4---------------------\n",
            "Batch Loss 0.6925622224807739\n",
            "Accuracy 0.5111666666666667\n",
            "---------------------EPOCH 3 / 4---------------------\n",
            "Batch Loss 0.6925020813941956\n",
            "Accuracy 0.5185\n",
            "---------------------EPOCH 4 / 4---------------------\n",
            "Batch Loss 0.6935755014419556\n",
            "Accuracy 0.5128333333333334\n"
          ]
        }
      ],
      "source": [
        "# TODO figure out why default device isn't working\n",
        "model = TwoLinearLayerGruRNN(256, 1, 256, coded_embeddings, vocab).to(DEVICE)\n",
        "loss_function = torch.nn.BCEWithLogitsLoss()\n",
        "optimizer = torch.optim.Adam(model.parameters(), lr=0.00001)\n",
        "torch.set_grad_enabled(True)\n",
        "\n",
        "print(f\"Epochs: {EPOCHS}\")\n",
        "\n",
        "for epoch in range(0, EPOCHS):\n",
        "    model.train()\n",
        "    running_loss = 0.0\n",
        "\n",
        "    # Training\n",
        "    for index, value in enumerate(training_loader):\n",
        "        optimizer.zero_grad()\n",
        "        data, labels = value\n",
        "        labels = labels.reshape(-1,1)\n",
        "        labels = labels.type(torch.FloatTensor)\n",
        "        labels = labels.to(DEVICE)\n",
        "        outputs = model(data)\n",
        "\n",
        "        loss = loss_function(outputs, labels)\n",
        "        loss.backward()\n",
        "        optimizer.step()\n",
        "        running_loss += loss.item()\n",
        "\n",
        "    # Validation to ensure the model is learning\n",
        "    model.eval()\n",
        "    torch.set_grad_enabled(False)\n",
        "    running_loss = 0\n",
        "    num_correct = 0\n",
        "    for index, value in enumerate(dev_loader):\n",
        "        data, labels = value\n",
        "        labels = labels.reshape(-1,1)\n",
        "        labels = labels.type(torch.FloatTensor)\n",
        "        labels = labels.to(DEVICE)\n",
        "\n",
        "        outputs = model(data)\n",
        "        loss = loss_function(outputs, labels)\n",
        "        running_loss += loss\n",
        "\n",
        "        for answer, standard in zip(outputs, labels):\n",
        "            normalised_answer = torch.round(torch.sigmoid(answer[0]))\n",
        "            num_correct += 1 if normalised_answer == standard[0] else 0\n",
        "\n",
        "    torch.set_grad_enabled(True)\n",
        "    print(f\"---------------------EPOCH {epoch+1} / {EPOCHS}---------------------\")\n",
        "    print(f\"Batch Loss {running_loss / len(dev_loader)}\")\n",
        "    print(f\"Accuracy {num_correct / len(dev_loader.dataset)}\")\n",
        "\n"
      ]
    },
    {
      "cell_type": "markdown",
      "source": [
        "## Model Testing"
      ],
      "metadata": {
        "id": "L6vNObemnfxy"
      }
    },
    {
      "cell_type": "code",
      "source": [
        "model.eval()\n",
        "torch.set_grad_enabled(False)\n",
        "running_loss = 0\n",
        "num_correct = 0\n",
        "\n",
        "loader = test_loader\n",
        "\n",
        "for index, value in enumerate(loader):\n",
        "    data, labels = value\n",
        "    labels = labels.reshape(-1,1)\n",
        "    labels = labels.type(torch.FloatTensor)\n",
        "    labels = labels.to(DEVICE)\n",
        "\n",
        "    outputs = model(data)\n",
        "    loss = loss_function(outputs, labels)\n",
        "    running_loss += loss\n",
        "\n",
        "    for answer, standard in zip(outputs, labels):\n",
        "        normalised_answer = torch.round(torch.sigmoid(answer[0]))\n",
        "        num_correct += 1 if normalised_answer == standard[0] else 0\n",
        "\n",
        "torch.set_grad_enabled(True)\n",
        "print(f\"Accuracy {num_correct / len(loader.dataset)}\")"
      ],
      "metadata": {
        "colab": {
          "base_uri": "https://localhost:8080/"
        },
        "id": "-jMdekN7nh6n",
        "outputId": "c3ad17fe-b7d1-4b1a-9e37-88eb1c1b921c"
      },
      "execution_count": 39,
      "outputs": [
        {
          "output_type": "stream",
          "name": "stdout",
          "text": [
            "Accuracy 0.56\n"
          ]
        }
      ]
    }
  ],
  "metadata": {
    "accelerator": "GPU",
    "colab": {
      "gpuType": "T4",
      "provenance": [],
      "include_colab_link": true
    },
    "kernelspec": {
      "display_name": "Python 3",
      "name": "python3"
    },
    "language_info": {
      "codemirror_mode": {
        "name": "ipython",
        "version": 3
      },
      "file_extension": ".py",
      "mimetype": "text/x-python",
      "name": "python",
      "nbconvert_exporter": "python",
      "pygments_lexer": "ipython3",
      "version": "3.12.2"
    }
  },
  "nbformat": 4,
  "nbformat_minor": 0
}